{
 "cells": [
  {
   "cell_type": "code",
   "execution_count": 3,
   "metadata": {},
   "outputs": [],
   "source": [
    "from ase.units import fs\n",
    "from ase.lattice.cubic  import FaceCenteredCubic\n",
    "from ase.visualize import view\n",
    "from ase.md.velocitydistribution import MaxwellBoltzmannDistribution\n",
    "from ase.md.verlet import VelocityVerlet\n",
    "from ase.io.trajectory import Trajectory\n"
   ]
  },
  {
   "cell_type": "code",
   "execution_count": 5,
   "metadata": {},
   "outputs": [],
   "source": [
    "use_asap = False\n",
    "\n",
    "if use_asap:\n",
    "    from asaptools import EMT\n",
    "\n",
    "else:\n",
    "    from ase.calculators.emt import EMT\n",
    "\n"
   ]
  },
  {
   "cell_type": "code",
   "execution_count": 6,
   "metadata": {},
   "outputs": [],
   "source": [
    "size = 3\n",
    "struct = FaceCenteredCubic(symbol='Al', size=(size, size, size), pbc=True)\n",
    "struct.calc = EMT()\n",
    "\n",
    "MaxwellBoltzmannDistribution(atoms=struct, temperature_K=300)\n",
    "\n"
   ]
  },
  {
   "cell_type": "code",
   "execution_count": 7,
   "metadata": {},
   "outputs": [],
   "source": [
    "mdyn = VelocityVerlet(atoms=struct, timestep=5*fs, )"
   ]
  },
  {
   "cell_type": "code",
   "execution_count": 8,
   "metadata": {},
   "outputs": [],
   "source": [
    "def printenergy(a=struct):\n",
    "    e_pot = a.get_potential_energy() / len(a)\n",
    "    e_ki = a.get_kinetic_energy() /len(a)\n",
    "    e_tot = e_pot + e_ki\n",
    "    print(f'Energy per atom: {e_tot}, Epot: {e_pot},  Ekin: {e_ki}')"
   ]
  },
  {
   "cell_type": "code",
   "execution_count": 9,
   "metadata": {},
   "outputs": [
    {
     "name": "stdout",
     "output_type": "stream",
     "text": [
      "Energy per atom: 0.035841745246721804, Epot: -0.001502047586232098,  Ekin: 0.0373437928329539\n",
      "Energy per atom: 0.035841745246721804, Epot: -0.001502047586232098,  Ekin: 0.0373437928329539\n",
      "Energy per atom: 0.0360263519974256, Epot: 0.02732492044283749,  Ekin: 0.008701431554588105\n",
      "Energy per atom: 0.03599834311012656, Epot: 0.017772246807073164,  Ekin: 0.0182260963030534\n",
      "Energy per atom: 0.03596502552136353, Epot: 0.016419859675528354,  Ekin: 0.019545165845835183\n",
      "Energy per atom: 0.035964112049304164, Epot: 0.0168744615746005,  Ekin: 0.019089650474703665\n",
      "Energy per atom: 0.03597899556768998, Epot: 0.01521993918928642,  Ekin: 0.02075905637840356\n",
      "Energy per atom: 0.0359806313371093, Epot: 0.020575279791907528,  Ekin: 0.01540535154520177\n",
      "Energy per atom: 0.03596653370961302, Epot: 0.014949424571750927,  Ekin: 0.021017109137862096\n",
      "Energy per atom: 0.03599821995637207, Epot: 0.019988521619618595,  Ekin: 0.016009698336753475\n",
      "Energy per atom: 0.03594060882041964, Epot: 0.014424105078141151,  Ekin: 0.02151650374227849\n",
      "Energy per atom: 0.035962889001371276, Epot: 0.015743606472912085,  Ekin: 0.02021928252845919\n",
      "Energy per atom: 0.035994442590796566, Epot: 0.019436925362067762,  Ekin: 0.0165575172287288\n",
      "Energy per atom: 0.03597730577228847, Epot: 0.018478798981477203,  Ekin: 0.01749850679081127\n",
      "Energy per atom: 0.035947117527072116, Epot: 0.014015415772618823,  Ekin: 0.021931701754453293\n",
      "Energy per atom: 0.03601189865759816, Epot: 0.02033031966119429,  Ekin: 0.01568157899640387\n",
      "Energy per atom: 0.03597141397604646, Epot: 0.01532623026590789,  Ekin: 0.020645183710138574\n",
      "Energy per atom: 0.035959214467867776, Epot: 0.018425089441480993,  Ekin: 0.01753412502638678\n",
      "Energy per atom: 0.03595989402065759, Epot: 0.016635314784846228,  Ekin: 0.019324579235811365\n",
      "Energy per atom: 0.03597261232115153, Epot: 0.01543937848544087,  Ekin: 0.020533233835710662\n",
      "Energy per atom: 0.03598398830831917, Epot: 0.018019659550125064,  Ekin: 0.017964328758194103\n",
      "Energy per atom: 0.0359808320701685, Epot: 0.017988804587733262,  Ekin: 0.017992027482435242\n",
      "Energy per atom: 0.035970552964192465, Epot: 0.017318631209733364,  Ekin: 0.018651921754459105\n",
      "Energy per atom: 0.03596071289145146, Epot: 0.016317984823661688,  Ekin: 0.019642728067789775\n",
      "Energy per atom: 0.035969769963791615, Epot: 0.01543926357075762,  Ekin: 0.020530506393033995\n",
      "Energy per atom: 0.03599504499490554, Epot: 0.019546410436462675,  Ekin: 0.01644863455844286\n",
      "Energy per atom: 0.03596509905508635, Epot: 0.016950643544817384,  Ekin: 0.01901445551026897\n",
      "Energy per atom: 0.035967874719701094, Epot: 0.01636561854023137,  Ekin: 0.019602256179469726\n",
      "Energy per atom: 0.03598861365768735, Epot: 0.018598263338414012,  Ekin: 0.017390350319273336\n",
      "Energy per atom: 0.03596947037228814, Epot: 0.014853117488049508,  Ekin: 0.02111635288423863\n",
      "Energy per atom: 0.03597189044524968, Epot: 0.018154235410278132,  Ekin: 0.01781765503497154\n",
      "Energy per atom: 0.03597731335576592, Epot: 0.01797123473412118,  Ekin: 0.01800607862164474\n",
      "Energy per atom: 0.03597766037736062, Epot: 0.01669228700609902,  Ekin: 0.019285373371261596\n",
      "Energy per atom: 0.035975989833432184, Epot: 0.01708417503442062,  Ekin: 0.01889181479901156\n",
      "Energy per atom: 0.03597620817078484, Epot: 0.01695476078408796,  Ekin: 0.01902144738669688\n",
      "Energy per atom: 0.035968847195210124, Epot: 0.01727354492201279,  Ekin: 0.018695302273197337\n",
      "Energy per atom: 0.035974849225536884, Epot: 0.018124800158321235,  Ekin: 0.01785004906721565\n",
      "Energy per atom: 0.035964460973190726, Epot: 0.015136377525767089,  Ekin: 0.02082808344742364\n",
      "Energy per atom: 0.03599437603959882, Epot: 0.01914599465671287,  Ekin: 0.016848381382885948\n",
      "Energy per atom: 0.035969838816722124, Epot: 0.016094614738927593,  Ekin: 0.01987522407779453\n",
      "Energy per atom: 0.03598097440954037, Epot: 0.01822963016535427,  Ekin: 0.017751344244186108\n",
      "Energy per atom: 0.03598419030607149, Epot: 0.018899049731595476,  Ekin: 0.017085140574476007\n",
      "Energy per atom: 0.03597778924001092, Epot: 0.015669509727040985,  Ekin: 0.020308279512969932\n",
      "Energy per atom: 0.03596846309868072, Epot: 0.017332624175814524,  Ekin: 0.018635838922866195\n",
      "Energy per atom: 0.03596714588314942, Epot: 0.017021246352818955,  Ekin: 0.018945899530330466\n",
      "Energy per atom: 0.03597728324491211, Epot: 0.01756428628176893,  Ekin: 0.01841299696314318\n",
      "Energy per atom: 0.035978837409171446, Epot: 0.01852464016434269,  Ekin: 0.017454197244828756\n",
      "Energy per atom: 0.03596411175344833, Epot: 0.014028351187783434,  Ekin: 0.0219357605656649\n",
      "Energy per atom: 0.035988796232345285, Epot: 0.01995191555152583,  Ekin: 0.01603688068081946\n",
      "Energy per atom: 0.035978426780045356, Epot: 0.01704616077912677,  Ekin: 0.018932266000918588\n",
      "Energy per atom: 0.035971366715319676, Epot: 0.016387054150420407,  Ekin: 0.01958431256489927\n",
      "Energy per atom: 0.03598542063880802, Epot: 0.019753174532193423,  Ekin: 0.016232246106614594\n",
      "Energy per atom: 0.0359587147937941, Epot: 0.013427297600439777,  Ekin: 0.022531417193354327\n",
      "Energy per atom: 0.0359904083144844, Epot: 0.02021529388283709,  Ekin: 0.01577511443164731\n",
      "Energy per atom: 0.0359708003489482, Epot: 0.016531281839112896,  Ekin: 0.019439518509835305\n",
      "Energy per atom: 0.03597734517392229, Epot: 0.01681411263030055,  Ekin: 0.01916323254362174\n",
      "Energy per atom: 0.035983735379298845, Epot: 0.019022663833353617,  Ekin: 0.016961071545945224\n",
      "Energy per atom: 0.035953816291605815, Epot: 0.013775322071274434,  Ekin: 0.02217849422033138\n",
      "Energy per atom: 0.03598784850891245, Epot: 0.020406941594748786,  Ekin: 0.015580906914163663\n",
      "Energy per atom: 0.03596871652684173, Epot: 0.0156820169493033,  Ekin: 0.02028669957753843\n",
      "Energy per atom: 0.035983963445441955, Epot: 0.017839628955795047,  Ekin: 0.01814433448964691\n",
      "Energy per atom: 0.035974666344515425, Epot: 0.017359170250323692,  Ekin: 0.018615496094191733\n",
      "Energy per atom: 0.035983828230641154, Epot: 0.017208134818820598,  Ekin: 0.018775693411820556\n",
      "Energy per atom: 0.03598477142753386, Epot: 0.018441269392101067,  Ekin: 0.017543502035432795\n",
      "Energy per atom: 0.03597453765856049, Epot: 0.016854557223978054,  Ekin: 0.019119980434582438\n",
      "Energy per atom: 0.03598454109864381, Epot: 0.017687050695145454,  Ekin: 0.018297490403498356\n",
      "Energy per atom: 0.035973058711010544, Epot: 0.0170254144556832,  Ekin: 0.01894764425532735\n",
      "Energy per atom: 0.03596763252979983, Epot: 0.01696808584971774,  Ekin: 0.018999546680082083\n",
      "Energy per atom: 0.035986371655949805, Epot: 0.017951766634998194,  Ekin: 0.01803460502095161\n",
      "Energy per atom: 0.035987635776114114, Epot: 0.01856159499548961,  Ekin: 0.017426040780624503\n",
      "Energy per atom: 0.035952562506806965, Epot: 0.014536254403374225,  Ekin: 0.021416308103432737\n",
      "Energy per atom: 0.035984405976616535, Epot: 0.0187394387649179,  Ekin: 0.01724496721169863\n",
      "Energy per atom: 0.0359816251689294, Epot: 0.017693551713885952,  Ekin: 0.01828807345504345\n",
      "Energy per atom: 0.03596945980886, Epot: 0.01673583671708265,  Ekin: 0.019233623091777355\n",
      "Energy per atom: 0.03597071404192115, Epot: 0.01729442759662115,  Ekin: 0.018676286445300002\n",
      "Energy per atom: 0.035987295345731335, Epot: 0.01704958086289438,  Ekin: 0.018937714482836956\n",
      "Energy per atom: 0.035985320061560286, Epot: 0.018742339204290158,  Ekin: 0.017242980857270124\n",
      "Energy per atom: 0.03596219495729594, Epot: 0.016370485311183933,  Ekin: 0.019591709646112003\n",
      "Energy per atom: 0.03597488868014067, Epot: 0.017286294218459754,  Ekin: 0.018688594461680915\n",
      "Energy per atom: 0.03597719339493401, Epot: 0.017212653582300706,  Ekin: 0.018764539812633305\n",
      "Energy per atom: 0.035983544539842816, Epot: 0.016977473974433836,  Ekin: 0.01900607056540898\n",
      "Energy per atom: 0.03597909601764403, Epot: 0.01777533328904617,  Ekin: 0.018203762728597857\n",
      "Energy per atom: 0.0359760961820184, Epot: 0.017983945467146416,  Ekin: 0.017992150714871986\n",
      "Energy per atom: 0.03596768528749404, Epot: 0.016289384347223084,  Ekin: 0.01967830094027096\n",
      "Energy per atom: 0.03597303311386295, Epot: 0.017343833945120082,  Ekin: 0.01862919916874287\n",
      "Energy per atom: 0.03596909422214497, Epot: 0.01635870113824201,  Ekin: 0.019610393083902958\n",
      "Energy per atom: 0.03597251679768115, Epot: 0.01712020071209728,  Ekin: 0.01885231608558387\n",
      "Energy per atom: 0.035988534939410496, Epot: 0.018706447688221734,  Ekin: 0.017282087251188766\n",
      "Energy per atom: 0.035980231952083656, Epot: 0.016704358602889404,  Ekin: 0.019275873349194252\n",
      "Energy per atom: 0.035976075742436456, Epot: 0.017368044854427014,  Ekin: 0.01860803088800944\n",
      "Energy per atom: 0.03596738277525657, Epot: 0.016378927223863207,  Ekin: 0.019588455551393366\n",
      "Energy per atom: 0.03598178857409377, Epot: 0.018041106164617796,  Ekin: 0.017940682409475977\n",
      "Energy per atom: 0.03597984254056126, Epot: 0.017968204261468678,  Ekin: 0.01801163827909258\n",
      "Energy per atom: 0.03597840735182967, Epot: 0.01578920862587943,  Ekin: 0.020189198725950236\n",
      "Energy per atom: 0.03598166163035722, Epot: 0.017937684256321654,  Ekin: 0.018043977374035573\n",
      "Energy per atom: 0.035981524440929905, Epot: 0.018405679648760418,  Ekin: 0.017575844792169483\n",
      "Energy per atom: 0.03597102519800774, Epot: 0.01629568054937749,  Ekin: 0.01967534464863025\n",
      "Energy per atom: 0.03598123214798632, Epot: 0.018559546259565303,  Ekin: 0.01742168588842102\n",
      "Energy per atom: 0.03596680617188332, Epot: 0.015122582608224806,  Ekin: 0.02084422356365851\n",
      "Energy per atom: 0.03597431435046597, Epot: 0.018937237882861127,  Ekin: 0.017037076467604842\n",
      "Energy per atom: 0.03596140047468689, Epot: 0.01579097217059232,  Ekin: 0.02017042830409457\n",
      "Energy per atom: 0.035977236248555394, Epot: 0.017597372425923675,  Ekin: 0.01837986382263172\n"
     ]
    },
    {
     "data": {
      "text/plain": [
       "True"
      ]
     },
     "execution_count": 9,
     "metadata": {},
     "output_type": "execute_result"
    }
   ],
   "source": [
    "mdyn.attach(printenergy, interval=10)\n",
    "traj = Trajectory('md_Al2.traj', 'w',struct)\n",
    "mdyn.attach(traj.write, interval=10)\n",
    "printenergy()\n",
    "mdyn.run(1000)"
   ]
  }
 ],
 "metadata": {
  "kernelspec": {
   "display_name": "base",
   "language": "python",
   "name": "python3"
  },
  "language_info": {
   "codemirror_mode": {
    "name": "ipython",
    "version": 3
   },
   "file_extension": ".py",
   "mimetype": "text/x-python",
   "name": "python",
   "nbconvert_exporter": "python",
   "pygments_lexer": "ipython3",
   "version": "3.10.9"
  }
 },
 "nbformat": 4,
 "nbformat_minor": 2
}
