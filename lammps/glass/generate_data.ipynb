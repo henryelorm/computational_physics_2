{
 "cells": [
  {
   "cell_type": "code",
   "execution_count": 2,
   "metadata": {},
   "outputs": [],
   "source": [
    "import numpy as np\n",
    "from ase.visualize import view\n",
    "from ase.spacegroup import crystal\n",
    "from ase.build import bulk\n",
    "from ase.io.lammpsdata import write_lammps_data\n",
    "\n"
   ]
  },
  {
   "cell_type": "code",
   "execution_count": 5,
   "metadata": {},
   "outputs": [],
   "source": [
    "a = 5\n",
    "\n",
    "si_oxide = crystal(symbols=('Si', 'O'), cellpar=[a, a, a, 90, 90, 90], basis=[\n",
    "                 (0, 0, 0), (1/4, 2/4, 3/4)], spacegroup=225, size=(2, 2, 2))\n",
    "\n",
    "# si_oxide.center(vacuum=1.5)\n",
    "\n",
    "\n",
    "charges = {'Si': 2.4, 'O': -1.2} \n",
    "for atom in si_oxide:\n",
    "    atom.charge = charges[atom.symbol]\n",
    "\n",
    "view(si_oxide)\n",
    "\n",
    "write_lammps_data(atoms=si_oxide, file='glass.dat', units='real', masses=[\n",
    "                  28.086, 15.99], atom_style='charge', )"
   ]
  },
  {
   "cell_type": "code",
   "execution_count": null,
   "metadata": {},
   "outputs": [],
   "source": []
  },
  {
   "cell_type": "code",
   "execution_count": null,
   "metadata": {},
   "outputs": [],
   "source": []
  }
 ],
 "metadata": {
  "kernelspec": {
   "display_name": "base",
   "language": "python",
   "name": "python3"
  },
  "language_info": {
   "codemirror_mode": {
    "name": "ipython",
    "version": 3
   },
   "file_extension": ".py",
   "mimetype": "text/x-python",
   "name": "python",
   "nbconvert_exporter": "python",
   "pygments_lexer": "ipython3",
   "version": "3.10.9"
  }
 },
 "nbformat": 4,
 "nbformat_minor": 2
}
