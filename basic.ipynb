{
 "cells": [
  {
   "cell_type": "code",
   "execution_count": 60,
   "metadata": {},
   "outputs": [],
   "source": [
    "from ase.visualize import view\n",
    "\n",
    "from ase.spacegroup import crystal \n",
    "from ase.build import bulk, molecule\n",
    "from ase.lattice.cubic import FaceCenteredCubic, Diamond\n",
    "from ase.calculators.emt import EMT\n",
    "from ase.optimize import BFGS\n",
    "from ase.io.vasp import write_vasp\n",
    "from ase.io.trajectory import Trajectory"
   ]
  },
  {
   "cell_type": "markdown",
   "metadata": {},
   "source": [
    "###### just using the calculator"
   ]
  },
  {
   "cell_type": "code",
   "execution_count": 59,
   "metadata": {},
   "outputs": [
    {
     "data": {
      "text/plain": [
       "array([[ 0.        ,  0.        ,  7.73836531],\n",
       "       [ 0.        ,  5.14779422, -3.86918266],\n",
       "       [ 0.        , -5.14779422, -3.86918266]])"
      ]
     },
     "execution_count": 59,
     "metadata": {},
     "output_type": "execute_result"
    }
   ],
   "source": [
    "struct3 = molecule(name='H2O', )\n",
    "\n",
    "struct3.calc = EMT()\n",
    "\n",
    "struct3.get_potential_energy()\n",
    "\n",
    "struct3.get_forces()\n",
    "# view(struct3)"
   ]
  },
  {
   "cell_type": "markdown",
   "metadata": {},
   "source": [
    "###### using bfgs as an optimizer (make sure to attach a calculator to the structure)"
   ]
  },
  {
   "cell_type": "code",
   "execution_count": 61,
   "metadata": {},
   "outputs": [
    {
     "name": "stdout",
     "output_type": "stream",
     "text": [
      "      Step     Time          Energy          fmax\n",
      "BFGS:    0 12:29:43        2.619811        7.738365\n",
      "BFGS:    1 12:29:43        1.912906        1.345448\n",
      "BFGS:    2 12:29:43        1.882033        0.403474\n",
      "BFGS:    3 12:29:43        1.879275        0.031663\n",
      "BFGS:    4 12:29:43        1.879253        0.009649\n",
      "BFGS:    5 12:29:43        1.879249        0.009727\n",
      "BFGS:    6 12:29:43        1.879152        0.045935\n",
      "BFGS:    7 12:29:43        1.879064        0.058991\n",
      "BFGS:    8 12:29:43        1.878956        0.049882\n",
      "BFGS:    9 12:29:43        1.878894        0.020729\n",
      "BFGS:   10 12:29:43        1.878884        0.002199\n",
      "BFGS:   11 12:29:43        1.878884        0.000057\n",
      "BFGS:   12 12:29:43        1.878884        0.000046\n",
      "BFGS:   13 12:29:43        1.878884        0.000005\n"
     ]
    },
    {
     "data": {
      "text/plain": [
       "True"
      ]
     },
     "execution_count": 61,
     "metadata": {},
     "output_type": "execute_result"
    }
   ],
   "source": [
    "dyn = BFGS(atoms=struct3, trajectory='h2o.traj')\n",
    "\n",
    "dyn.run(fmax=0.00003)"
   ]
  },
  {
   "cell_type": "code",
   "execution_count": null,
   "metadata": {},
   "outputs": [],
   "source": []
  },
  {
   "cell_type": "code",
   "execution_count": 58,
   "metadata": {},
   "outputs": [
    {
     "name": "stdout",
     "output_type": "stream",
     "text": [
      "0.0\n",
      "[[-1.25593980e-15 -8.88178420e-16  0.00000000e+00]\n",
      " [ 1.00613962e-16  2.01227923e-16 -8.88178420e-16]\n",
      " [ 4.94396191e-16 -3.93782229e-16  1.24900090e-16]\n",
      " [ 2.78119880e-16  3.89054938e-16  1.66923089e-16]]\n"
     ]
    }
   ],
   "source": [
    "struct4 = FaceCenteredCubic(symbol='Al', size=[1,1,1], )\n",
    "\n",
    "struct4.calc = EMT()\n",
    "eop = struct4.get_kinetic_energy()\n",
    "\n",
    "force = struct4.get_forces()\n",
    "print(eop)\n",
    "print(force)\n",
    "\n",
    "\n",
    "write_vasp( atoms= struct4, file='POSCAR')"
   ]
  },
  {
   "cell_type": "code",
   "execution_count": 38,
   "metadata": {},
   "outputs": [
    {
     "name": "stdout",
     "output_type": "stream",
     "text": [
      "      Step     Time          Energy          fmax\n",
      "BFGS:    0 12:21:34       -0.006008        0.000000\n"
     ]
    },
    {
     "data": {
      "text/plain": [
       "True"
      ]
     },
     "execution_count": 38,
     "metadata": {},
     "output_type": "execute_result"
    }
   ],
   "source": [
    "dyn = BFGS(atoms=struct4, )\n",
    "\n",
    "dyn.run(fmax=0.003)"
   ]
  }
 ],
 "metadata": {
  "kernelspec": {
   "display_name": "base",
   "language": "python",
   "name": "python3"
  },
  "language_info": {
   "codemirror_mode": {
    "name": "ipython",
    "version": 3
   },
   "file_extension": ".py",
   "mimetype": "text/x-python",
   "name": "python",
   "nbconvert_exporter": "python",
   "pygments_lexer": "ipython3",
   "version": "3.10.9"
  }
 },
 "nbformat": 4,
 "nbformat_minor": 2
}
