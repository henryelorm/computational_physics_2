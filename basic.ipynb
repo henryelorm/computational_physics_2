{
 "cells": [
  {
   "cell_type": "code",
   "execution_count": 2,
   "metadata": {},
   "outputs": [],
   "source": [
    "from ase.visualize import view\n",
    "\n",
    "from ase.spacegroup import crystal \n",
    "from ase.build import bulk, molecule\n",
    "from ase.lattice.cubic import FaceCenteredCubic, Diamond\n",
    "from ase.calculators.emt import EMT\n",
    "from ase.optimize import BFGS, LBFGS, GPMin, FIRE \n",
    "from ase.io.vasp import write_vasp\n",
    "from ase.io.trajectory import Trajectory"
   ]
  },
  {
   "cell_type": "markdown",
   "metadata": {},
   "source": [
    "###### just using the calculator"
   ]
  },
  {
   "cell_type": "code",
   "execution_count": 15,
   "metadata": {},
   "outputs": [
    {
     "data": {
      "text/plain": [
       "2.6198114833697375"
      ]
     },
     "execution_count": 15,
     "metadata": {},
     "output_type": "execute_result"
    }
   ],
   "source": [
    "struct3 = molecule(name='H2O', )\n",
    "\n",
    "struct3.calc = EMT()\n",
    "\n",
    "struct3.get_potential_energy()\n",
    "\n",
    "# struct3.get_forces()\n",
    "# view(struct3)"
   ]
  },
  {
   "cell_type": "markdown",
   "metadata": {},
   "source": [
    "###### using bfgs as an optimizer (make sure to attach a calculator to the structure)"
   ]
  },
  {
   "cell_type": "code",
   "execution_count": 16,
   "metadata": {},
   "outputs": [
    {
     "name": "stdout",
     "output_type": "stream",
     "text": [
      "      Step     Time          Energy          fmax\n",
      "BFGS:    0 11:43:50        2.619811        7.738365\n",
      "BFGS:    1 11:43:50        1.912906        1.345448\n",
      "BFGS:    2 11:43:50        1.882033        0.403474\n",
      "BFGS:    3 11:43:50        1.879275        0.031663\n",
      "BFGS:    4 11:43:50        1.879253        0.009649\n",
      "BFGS:    5 11:43:50        1.879249        0.009727\n",
      "BFGS:    6 11:43:50        1.879152        0.045935\n",
      "BFGS:    7 11:43:50        1.879064        0.058991\n",
      "BFGS:    8 11:43:50        1.878956        0.049882\n",
      "BFGS:    9 11:43:50        1.878894        0.020729\n",
      "BFGS:   10 11:43:50        1.878884        0.002199\n",
      "BFGS:   11 11:43:50        1.878884        0.000057\n",
      "BFGS:   12 11:43:50        1.878884        0.000046\n",
      "BFGS:   13 11:43:50        1.878884        0.000005\n"
     ]
    },
    {
     "data": {
      "text/plain": [
       "13"
      ]
     },
     "execution_count": 16,
     "metadata": {},
     "output_type": "execute_result"
    }
   ],
   "source": [
    "dyn = BFGS(atoms=struct3, trajectory='h2o.traj', )\n",
    "\n",
    "dyn.run(fmax=0.00003, )"
   ]
  },
  {
   "cell_type": "code",
   "execution_count": null,
   "metadata": {},
   "outputs": [],
   "source": []
  },
  {
   "cell_type": "code",
   "execution_count": 11,
   "metadata": {},
   "outputs": [
    {
     "name": "stdout",
     "output_type": "stream",
     "text": [
      "0.0\n",
      "[[-1.25593980e-15 -8.88178420e-16  0.00000000e+00]\n",
      " [ 1.00613962e-16  2.01227923e-16 -8.88178420e-16]\n",
      " [ 4.94396191e-16 -3.93782229e-16  1.24900090e-16]\n",
      " [ 2.78119880e-16  3.89054938e-16  1.66923089e-16]]\n"
     ]
    }
   ],
   "source": [
    "struct4 = FaceCenteredCubic(symbol='Al', size=[1,1,1], )\n",
    "\n",
    "struct4.calc = EMT()\n",
    "eop = struct4.get_kinetic_energy()\n",
    "\n",
    "force = struct4.get_forces()\n",
    "print(eop)\n",
    "print(force)\n",
    "\n",
    "\n",
    "write_vasp( atoms= struct4, file='POSCAR')"
   ]
  },
  {
   "cell_type": "code",
   "execution_count": 38,
   "metadata": {},
   "outputs": [
    {
     "name": "stdout",
     "output_type": "stream",
     "text": [
      "      Step     Time          Energy          fmax\n",
      "BFGS:    0 12:21:34       -0.006008        0.000000\n"
     ]
    },
    {
     "data": {
      "text/plain": [
       "True"
      ]
     },
     "execution_count": 38,
     "metadata": {},
     "output_type": "execute_result"
    }
   ],
   "source": [
    "dyn = BFGS(atoms=struct4, )\n",
    "\n",
    "dyn.run(fmax=0.003)"
   ]
  },
  {
   "cell_type": "code",
   "execution_count": 7,
   "metadata": {},
   "outputs": [
    {
     "name": "stdout",
     "output_type": "stream",
     "text": [
      "       Step     Time          Energy          fmax\n",
      "LBFGS:    0 11:25:53        2.619811        7.738365\n",
      "LBFGS:    1 11:25:53        1.912906        1.345448\n",
      "LBFGS:    2 11:25:53        1.882033        0.403474\n",
      "LBFGS:    3 11:25:53        1.879275        0.031663\n",
      "LBFGS:    4 11:25:53        1.879253        0.009649\n",
      "LBFGS:    5 11:25:53        1.879249        0.009727\n",
      "LBFGS:    6 11:25:53        1.879152        0.045935\n",
      "LBFGS:    7 11:25:53        1.879064        0.058991\n",
      "LBFGS:    8 11:25:53        1.878956        0.049882\n",
      "LBFGS:    9 11:25:53        1.878894        0.020729\n",
      "LBFGS:   10 11:25:53        1.878884        0.002199\n"
     ]
    },
    {
     "data": {
      "text/plain": [
       "True"
      ]
     },
     "execution_count": 7,
     "metadata": {},
     "output_type": "execute_result"
    }
   ],
   "source": [
    "dyn = LBFGS(atoms=struct3, )\n",
    "\n",
    "dyn.run(fmax=0.003)"
   ]
  },
  {
   "cell_type": "code",
   "execution_count": 12,
   "metadata": {},
   "outputs": [
    {
     "name": "stdout",
     "output_type": "stream",
     "text": [
      "      Step     Time          Energy          fmax\n",
      "FIRE:    0 11:27:19       -0.006008        0.000000\n"
     ]
    },
    {
     "data": {
      "text/plain": [
       "True"
      ]
     },
     "execution_count": 12,
     "metadata": {},
     "output_type": "execute_result"
    }
   ],
   "source": [
    "dyn = FIRE(atoms=struct4, )\n",
    "\n",
    "dyn.run(fmax=0.003)"
   ]
  },
  {
   "cell_type": "markdown",
   "metadata": {},
   "source": [
    "#### velocity Verlet "
   ]
  },
  {
   "cell_type": "code",
   "execution_count": null,
   "metadata": {},
   "outputs": [],
   "source": [
    "from ase.units import fs\n",
    "from ase.md.velocitydistribution "
   ]
  },
  {
   "cell_type": "code",
   "execution_count": 19,
   "metadata": {},
   "outputs": [
    {
     "data": {
      "text/plain": [
       "<Popen: returncode: None args: ['c:\\\\Users\\\\Acer\\\\anaconda3\\\\python.exe', '-...>"
      ]
     },
     "execution_count": 19,
     "metadata": {},
     "output_type": "execute_result"
    }
   ],
   "source": [
    "si_struct = Diamond(symbol='Si', size=(3,3,3))\n",
    "\n",
    "# view(atoms=si_struct)\n",
    "dyn = VelocityVerlet(si_struct, dt=5.0 * fs,\n",
    "                     trajectory='md.traj', logfile='md.log')\n",
    "dyn.run(1000)  # take 1000 steps"
   ]
  }
 ],
 "metadata": {
  "kernelspec": {
   "display_name": "base",
   "language": "python",
   "name": "python3"
  },
  "language_info": {
   "codemirror_mode": {
    "name": "ipython",
    "version": 3
   },
   "file_extension": ".py",
   "mimetype": "text/x-python",
   "name": "python",
   "nbconvert_exporter": "python",
   "pygments_lexer": "ipython3",
   "version": "3.10.9"
  }
 },
 "nbformat": 4,
 "nbformat_minor": 2
}
